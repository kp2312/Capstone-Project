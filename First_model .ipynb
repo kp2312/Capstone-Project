{
  "nbformat": 4,
  "nbformat_minor": 0,
  "metadata": {
    "colab": {
      "provenance": []
    },
    "kernelspec": {
      "name": "python3",
      "display_name": "Python 3"
    },
    "language_info": {
      "name": "python"
    }
  },
  "cells": [
    {
      "cell_type": "code",
      "execution_count": 1,
      "metadata": {
        "id": "dN3-NGbGew2U"
      },
      "outputs": [],
      "source": [
        "import numpy as np\n",
        "import cv2\n",
        "from tensorflow.keras.layers import Input, Conv2D, BatchNormalization, Dropout, Flatten, Dense, MaxPool2D\n",
        "from tensorflow.keras.models import Model, Sequential\n",
        "from tensorflow.keras.initializers import glorot_uniform\n",
        "from tensorflow.keras.optimizers import Adam, SGD\n",
        "import matplotlib.pyplot as plt\n",
        "from sklearn.metrics import classification_report\n",
        "from tensorflow.keras.preprocessing.image import ImageDataGenerator\n",
        "from sklearn.model_selection import train_test_split\n",
        "from tensorflow.keras.utils import to_categorical\n",
        "from sklearn.preprocessing import LabelEncoder\n",
        "from sklearn.metrics import classification_report, confusion_matrix\n",
        "import seaborn as sns\n",
        "from tensorflow.keras.regularizers import l2\n",
        "import tensorflow as tf\n",
        "import pandas as pd\n",
        "from imutils.face_utils import FaceAligner\n",
        "from imutils.face_utils import rect_to_bb\n",
        "import imutils\n",
        "import dlib"
      ]
    },
    {
      "cell_type": "code",
      "source": [
        " data = np.load('/content/dataset_compressed.npz', allow_pickle=True)\n",
        "X = data['arr_0']\n",
        "Y = data['arr_1']\n",
        "\n",
        "X = list(X)\n",
        "Y = list(Y)\n",
        "print(len(X))\n",
        "print(len(Y))"
      ],
      "metadata": {
        "colab": {
          "base_uri": "https://localhost:8080/"
        },
        "id": "wdscIin4e4LS",
        "outputId": "6513761a-10d5-4187-df25-ed7b4068ead8"
      },
      "execution_count": 2,
      "outputs": [
        {
          "output_type": "stream",
          "name": "stdout",
          "text": [
            "1452\n",
            "1452\n"
          ]
        }
      ]
    },
    {
      "cell_type": "code",
      "source": [
        "for i in range(len(X)):\n",
        "    img = X[i]\n",
        "    img = cv2.resize(img, (32, 32))\n",
        "    X[i] = img\n",
        "    \n",
        "print(len(X))\n",
        "print(X[0].shape)"
      ],
      "metadata": {
        "colab": {
          "base_uri": "https://localhost:8080/"
        },
        "id": "8FDZq3Fzg0hn",
        "outputId": "62b25bbe-5a10-4be5-e3fe-d8e25e42a0d6"
      },
      "execution_count": 3,
      "outputs": [
        {
          "output_type": "stream",
          "name": "stdout",
          "text": [
            "1452\n",
            "(32, 32, 3)\n"
          ]
        }
      ]
    },
    {
      "cell_type": "code",
      "source": [
        "label_encoder = LabelEncoder()\n",
        "Y = label_encoder.fit_transform(Y)\n",
        "print(Y.shape)\n",
        "print(Y[0])\n",
        "print(set(Y))"
      ],
      "metadata": {
        "colab": {
          "base_uri": "https://localhost:8080/"
        },
        "id": "J69NUJvQg5VV",
        "outputId": "0aec8ec3-0ced-48f8-ebef-30e3704fabe3"
      },
      "execution_count": 4,
      "outputs": [
        {
          "output_type": "stream",
          "name": "stdout",
          "text": [
            "(1452,)\n",
            "0\n",
            "{0, 1}\n"
          ]
        }
      ]
    },
    {
      "cell_type": "code",
      "source": [
        "X = np.array(X)\n",
        "Y = np.array(Y)\n",
        "print(X.shape)\n",
        "print(Y.shape)"
      ],
      "metadata": {
        "colab": {
          "base_uri": "https://localhost:8080/"
        },
        "id": "r-eK_DFxg9CN",
        "outputId": "2bbd2c47-1c55-4313-c6c8-9e249bb6f911"
      },
      "execution_count": 5,
      "outputs": [
        {
          "output_type": "stream",
          "name": "stdout",
          "text": [
            "(1452, 32, 32, 3)\n",
            "(1452,)\n"
          ]
        }
      ]
    },
    {
      "cell_type": "code",
      "source": [
        "X_train, X_test, Y_train, Y_test = train_test_split(X, Y, test_size=0.2)"
      ],
      "metadata": {
        "id": "7_iXRdmug_nv"
      },
      "execution_count": 6,
      "outputs": []
    },
    {
      "cell_type": "code",
      "source": [
        "print(X_train.shape)\n",
        "print(Y_train.shape)\n",
        "print(X_test.shape)\n",
        "print(Y_test.shape)\n",
        "\n",
        "Y_train = to_categorical(Y_train)\n",
        "Y_test = to_categorical(Y_test)\n",
        "\n",
        "print(X_train.shape)\n",
        "print(Y_train.shape)\n",
        "print(X_test.shape)\n",
        "print(Y_test.shape)"
      ],
      "metadata": {
        "colab": {
          "base_uri": "https://localhost:8080/"
        },
        "id": "rcE9eTykhCtU",
        "outputId": "946d8bf0-1510-45b1-c636-9c0f08a8fb70"
      },
      "execution_count": 7,
      "outputs": [
        {
          "output_type": "stream",
          "name": "stdout",
          "text": [
            "(1161, 32, 32, 3)\n",
            "(1161,)\n",
            "(291, 32, 32, 3)\n",
            "(291,)\n",
            "(1161, 32, 32, 3)\n",
            "(1161, 2)\n",
            "(291, 32, 32, 3)\n",
            "(291, 2)\n"
          ]
        }
      ]
    },
    {
      "cell_type": "markdown",
      "source": [
        "**Visualizing images of Closed Eye and Open Eye from the Dataset**"
      ],
      "metadata": {
        "id": "gpCS98oAviXe"
      }
    },
    {
      "cell_type": "code",
      "source": [
        "figure1 = plt.figure(figsize=(5, 5))\n",
        "idx_closed = np.where(Y==0)\n",
        "img_closed = X[idx_closed[0][0]]\n",
        "plt.imshow(img_closed)\n",
        "plt.title('Image of Closed Eye representing Driver is sleeping')\n",
        "plt.axis('off')\n",
        "plt.show()\n",
        "\n",
        "figure2 = plt.figure(figsize=(5, 5))\n",
        "idx_open = np.where(Y==1)\n",
        "img_open = X[idx_open[0][0]]\n",
        "plt.imshow(img_open)\n",
        "plt.title('Image of Open Eye representing Driver is not sleeping')\n",
        "plt.axis('off')\n",
        "plt.show()\n"
      ],
      "metadata": {
        "colab": {
          "base_uri": "https://localhost:8080/",
          "height": 621
        },
        "id": "g7Y6IjXEhfhd",
        "outputId": "fd15dd86-3c09-4a6b-ce00-c47544c68faa"
      },
      "execution_count": 8,
      "outputs": [
        {
          "output_type": "display_data",
          "data": {
            "text/plain": [
              "<Figure size 360x360 with 1 Axes>"
            ],
            "image/png": "[encoded data removed]"
          },
          "metadata": {
            "needs_background": "light"
          }
        },
        {
          "output_type": "display_data",
          "data": {
            "text/plain": [
              "<Figure size 360x360 with 1 Axes>"
            ],
            "image/png": "[encoded data removed]"
          },
          "metadata": {
            "needs_background": "light"
          }
        }
      ]
    },
    {
      "cell_type": "markdown",
      "source": [
        "**Defining the Model Architecture**"
      ],
      "metadata": {
        "id": "yTVNCpDNhv7s"
      }
    },
    {
      "cell_type": "code",
      "source": [
        "def driver_drowsiness_detection_model(input_shape=(32, 32, 3)):\n",
        "    model = Sequential()\n",
        "    model.add(Input(shape=input_shape))\n",
        "    model.add(Conv2D(32, (3, 3), padding='same', strides=(1, 1), name='conv1', activation='relu', \n",
        "                     kernel_initializer=glorot_uniform(seed=0)))\n",
        "    model.add(BatchNormalization())\n",
        "    model.add(Conv2D(32, (3, 3), padding='same', strides=(1, 1), name='conv2', activation='relu', \n",
        "                     kernel_initializer=glorot_uniform(seed=0)))\n",
        "    model.add(BatchNormalization())\n",
        "    model.add(Dropout(0.2))\n",
        "    model.add(MaxPool2D((2, 2), strides=(2, 2)))\n",
        "    \n",
        "    model.add(Conv2D(64, (3, 3), padding='same', strides=(1, 1), name='conv3', activation='relu', \n",
        "                     kernel_initializer=glorot_uniform(seed=0)))\n",
        "    model.add(BatchNormalization())\n",
        "    model.add(MaxPool2D((2, 2), strides=(2, 2)))\n",
        "    model.add(Conv2D(64, (3, 3), padding='same', strides=(1, 1), name='conv4', activation='relu', \n",
        "                     kernel_initializer=glorot_uniform(seed=0)))\n",
        "    model.add(BatchNormalization())\n",
        "    model.add(Dropout(0.3))\n",
        "    model.add(MaxPool2D((2, 2), strides=(2, 2)))\n",
        "\n",
        "    model.add(Conv2D(64, (3, 3), padding='same', strides=(1, 1), name='conv5', activation='relu', \n",
        "                     kernel_initializer=glorot_uniform(seed=0)))\n",
        "    model.add(BatchNormalization())\n",
        "    model.add(Conv2D(64, (3, 3), padding='same', strides=(1, 1), name='conv6', activation='relu', \n",
        "                     kernel_initializer=glorot_uniform(seed=0)))\n",
        "    model.add(BatchNormalization())\n",
        "    model.add(Conv2D(64, (3, 3), padding='same', strides=(1, 1), name='conv7', activation='relu', \n",
        "                     kernel_initializer=glorot_uniform(seed=0)))\n",
        "    model.add(BatchNormalization())\n",
        "    model.add(Dropout(0.4))\n",
        "    model.add(MaxPool2D((2, 2), strides=(2, 2)))\n",
        "    \n",
        "    \n",
        "    model.add(Flatten())\n",
        "    model.add(Dense(128, activation='relu', kernel_initializer=glorot_uniform(seed=0), name='fc1'))\n",
        "    model.add(Dropout(0.5))\n",
        "    model.add(Dense(128, activation='relu', kernel_initializer=glorot_uniform(seed=0), name='fc2'))\n",
        "    model.add(Dropout(0.5))\n",
        "    model.add(Dense(2, activation='softmax', kernel_initializer=glorot_uniform(seed=0), name='fc3'))\n",
        "    \n",
        "    optimizer = Adam(0.0001)\n",
        "    model.compile(optimizer=optimizer, loss='categorical_crossentropy', metrics=['accuracy'])\n",
        "    return model"
      ],
      "metadata": {
        "id": "o7lVsQrkh2LT"
      },
      "execution_count": 9,
      "outputs": []
    },
    {
      "cell_type": "code",
      "source": [
        "model= driver_drowsiness_detection_model(input_shape=(32, 32, 3))\n",
        "model.summary()"
      ],
      "metadata": {
        "colab": {
          "base_uri": "https://localhost:8080/"
        },
        "id": "8A8kqoC8wNII",
        "outputId": "023fb2dc-3485-4859-85c6-bdea36ca69b8"
      },
      "execution_count": 10,
      "outputs": [
        {
          "output_type": "stream",
          "name": "stdout",
          "text": [
            "Model: \"sequential\"\n",
            "_________________________________________________________________\n",
            " Layer (type)                Output Shape              Param #   \n",
            "=================================================================\n",
            " conv1 (Conv2D)              (None, 32, 32, 32)        896       \n",
            "                                                                 \n",
            " batch_normalization (BatchN  (None, 32, 32, 32)       128       \n",
            " ormalization)                                                   \n",
            "                                                                 \n",
            " conv2 (Conv2D)              (None, 32, 32, 32)        9248      \n",
            "                                                                 \n",
            " batch_normalization_1 (Batc  (None, 32, 32, 32)       128       \n",
            " hNormalization)                                                 \n",
            "                                                                 \n",
            " dropout (Dropout)           (None, 32, 32, 32)        0         \n",
            "                                                                 \n",
            " max_pooling2d (MaxPooling2D  (None, 16, 16, 32)       0         \n",
            " )                                                               \n",
            "                                                                 \n",
            " conv3 (Conv2D)              (None, 16, 16, 64)        18496     \n",
            "                                                                 \n",
            " batch_normalization_2 (Batc  (None, 16, 16, 64)       256       \n",
            " hNormalization)                                                 \n",
            "                                                                 \n",
            " max_pooling2d_1 (MaxPooling  (None, 8, 8, 64)         0         \n",
            " 2D)                                                             \n",
            "                                                                 \n",
            " conv4 (Conv2D)              (None, 8, 8, 64)          36928     \n",
            "                                                                 \n",
            " batch_normalization_3 (Batc  (None, 8, 8, 64)         256       \n",
            " hNormalization)                                                 \n",
            "                                                                 \n",
            " dropout_1 (Dropout)         (None, 8, 8, 64)          0         \n",
            "                                                                 \n",
            " max_pooling2d_2 (MaxPooling  (None, 4, 4, 64)         0         \n",
            " 2D)                                                             \n",
            "                                                                 \n",
            " conv5 (Conv2D)              (None, 4, 4, 64)          36928     \n",
            "                                                                 \n",
            " batch_normalization_4 (Batc  (None, 4, 4, 64)         256       \n",
            " hNormalization)                                                 \n",
            "                                                                 \n",
            " conv6 (Conv2D)              (None, 4, 4, 64)          36928     \n",
            "                                                                 \n",
            " batch_normalization_5 (Batc  (None, 4, 4, 64)         256       \n",
            " hNormalization)                                                 \n",
            "                                                                 \n",
            " conv7 (Conv2D)              (None, 4, 4, 64)          36928     \n",
            "                                                                 \n",
            " batch_normalization_6 (Batc  (None, 4, 4, 64)         256       \n",
            " hNormalization)                                                 \n",
            "                                                                 \n",
            " dropout_2 (Dropout)         (None, 4, 4, 64)          0         \n",
            "                                                                 \n",
            " max_pooling2d_3 (MaxPooling  (None, 2, 2, 64)         0         \n",
            " 2D)                                                             \n",
            "                                                                 \n",
            " flatten (Flatten)           (None, 256)               0         \n",
            "                                                                 \n",
            " fc1 (Dense)                 (None, 128)               32896     \n",
            "                                                                 \n",
            " dropout_3 (Dropout)         (None, 128)               0         \n",
            "                                                                 \n",
            " fc2 (Dense)                 (None, 128)               16512     \n",
            "                                                                 \n",
            " dropout_4 (Dropout)         (None, 128)               0         \n",
            "                                                                 \n",
            " fc3 (Dense)                 (None, 2)                 258       \n",
            "                                                                 \n",
            "=================================================================\n",
            "Total params: 227,554\n",
            "Trainable params: 226,786\n",
            "Non-trainable params: 768\n",
            "_________________________________________________________________\n"
          ]
        }
      ]
    },
    {
      "cell_type": "markdown",
      "source": [
        "**Training the Model**"
      ],
      "metadata": {
        "id": "HO01HMntwY6u"
      }
    },
    {
      "cell_type": "code",
      "source": [
        "aug = ImageDataGenerator(rotation_range=20, zoom_range=0.2, horizontal_flip=True)\n",
        "hist = model.fit(aug.flow(X_train, Y_train, batch_size=128), batch_size=128, epochs=20, validation_data=(X_test, Y_test))"
      ],
      "metadata": {
        "colab": {
          "base_uri": "https://localhost:8080/"
        },
        "id": "X4jkkYATwd1Z",
        "outputId": "aac038ec-8a5c-4c5c-b6af-4451dc91ecc3"
      },
      "execution_count": 11,
      "outputs": [
        {
          "output_type": "stream",
          "name": "stdout",
          "text": [
            "Epoch 1/20\n",
            "10/10 [==============================] - 22s 1s/step - loss: 1.4560 - accuracy: 0.5177 - val_loss: 0.7385 - val_accuracy: 0.5189\n",
            "Epoch 2/20\n",
            "10/10 [==============================] - 9s 891ms/step - loss: 1.2701 - accuracy: 0.5581 - val_loss: 0.7069 - val_accuracy: 0.5223\n",
            "Epoch 3/20\n",
            "10/10 [==============================] - 7s 718ms/step - loss: 1.0313 - accuracy: 0.5805 - val_loss: 0.6741 - val_accuracy: 0.5223\n",
            "Epoch 4/20\n",
            "10/10 [==============================] - 8s 765ms/step - loss: 0.9831 - accuracy: 0.5780 - val_loss: 0.6448 - val_accuracy: 0.5704\n",
            "Epoch 5/20\n",
            "10/10 [==============================] - 9s 872ms/step - loss: 0.8593 - accuracy: 0.6115 - val_loss: 0.6264 - val_accuracy: 0.6460\n",
            "Epoch 6/20\n",
            "10/10 [==============================] - 9s 849ms/step - loss: 0.8577 - accuracy: 0.6072 - val_loss: 0.6172 - val_accuracy: 0.6942\n",
            "Epoch 7/20\n",
            "10/10 [==============================] - 8s 753ms/step - loss: 0.8676 - accuracy: 0.6047 - val_loss: 0.6096 - val_accuracy: 0.7148\n",
            "Epoch 8/20\n",
            "10/10 [==============================] - 10s 891ms/step - loss: 0.8577 - accuracy: 0.6141 - val_loss: 0.6017 - val_accuracy: 0.7491\n",
            "Epoch 9/20\n",
            "10/10 [==============================] - 11s 1s/step - loss: 0.7566 - accuracy: 0.6382 - val_loss: 0.5983 - val_accuracy: 0.7285\n",
            "Epoch 10/20\n",
            "10/10 [==============================] - 9s 871ms/step - loss: 0.6986 - accuracy: 0.6641 - val_loss: 0.5917 - val_accuracy: 0.7251\n",
            "Epoch 11/20\n",
            "10/10 [==============================] - 8s 777ms/step - loss: 0.7548 - accuracy: 0.6382 - val_loss: 0.5824 - val_accuracy: 0.7251\n",
            "Epoch 12/20\n",
            "10/10 [==============================] - 8s 747ms/step - loss: 0.7088 - accuracy: 0.6434 - val_loss: 0.5701 - val_accuracy: 0.7354\n",
            "Epoch 13/20\n",
            "10/10 [==============================] - 9s 941ms/step - loss: 0.6870 - accuracy: 0.6469 - val_loss: 0.5588 - val_accuracy: 0.7388\n",
            "Epoch 14/20\n",
            "10/10 [==============================] - 9s 916ms/step - loss: 0.6541 - accuracy: 0.6830 - val_loss: 0.5449 - val_accuracy: 0.7388\n",
            "Epoch 15/20\n",
            "10/10 [==============================] - 8s 740ms/step - loss: 0.6638 - accuracy: 0.6908 - val_loss: 0.5323 - val_accuracy: 0.7491\n",
            "Epoch 16/20\n",
            "10/10 [==============================] - 9s 876ms/step - loss: 0.6313 - accuracy: 0.6865 - val_loss: 0.5188 - val_accuracy: 0.7491\n",
            "Epoch 17/20\n",
            "10/10 [==============================] - 9s 914ms/step - loss: 0.6251 - accuracy: 0.6891 - val_loss: 0.5058 - val_accuracy: 0.7560\n",
            "Epoch 18/20\n",
            "10/10 [==============================] - 7s 709ms/step - loss: 0.5830 - accuracy: 0.7054 - val_loss: 0.4948 - val_accuracy: 0.7595\n",
            "Epoch 19/20\n",
            "10/10 [==============================] - 8s 852ms/step - loss: 0.5534 - accuracy: 0.7425 - val_loss: 0.4830 - val_accuracy: 0.7835\n",
            "Epoch 20/20\n",
            "10/10 [==============================] - 8s 928ms/step - loss: 0.6075 - accuracy: 0.6951 - val_loss: 0.4691 - val_accuracy: 0.7904\n"
          ]
        }
      ]
    },
    {
      "cell_type": "markdown",
      "source": [
        "**Evaluating Model on Test Set**"
      ],
      "metadata": {
        "id": "VyyUGeDqzM4e"
      }
    },
    {
      "cell_type": "code",
      "source": [
        "pred = model.evaluate(X_test, Y_test)\n",
        "print(f'Test Set Accuracy: {pred[1]}')\n",
        "print(f'Test Set Loss: {pred[0]}')"
      ],
      "metadata": {
        "colab": {
          "base_uri": "https://localhost:8080/"
        },
        "id": "VEpd_xBtzPzJ",
        "outputId": "ba38534d-391b-4e5a-c049-a37c579119bf"
      },
      "execution_count": 12,
      "outputs": [
        {
          "output_type": "stream",
          "name": "stdout",
          "text": [
            "10/10 [==============================] - 0s 44ms/step - loss: 0.4691 - accuracy: 0.7904\n",
            "Test Set Accuracy: 0.7903780341148376\n",
            "Test Set Loss: 0.4691036641597748\n"
          ]
        }
      ]
    },
    {
      "cell_type": "markdown",
      "source": [
        "**Classification Report**"
      ],
      "metadata": {
        "id": "wOcoYsELzdY8"
      }
    },
    {
      "cell_type": "code",
      "source": [
        "ypred = model.predict(X_test)\n",
        "ypred = np.argmax(ypred, axis=1)\n",
        "Y_test_pred = np.argmax(Y_test, axis=1)\n",
        "print(classification_report(Y_test_pred, ypred))"
      ],
      "metadata": {
        "colab": {
          "base_uri": "https://localhost:8080/"
        },
        "id": "xyB9mcdxzmGW",
        "outputId": "1ca7ab63-0e51-4d39-dcad-3965311ca803"
      },
      "execution_count": 13,
      "outputs": [
        {
          "output_type": "stream",
          "name": "stdout",
          "text": [
            "10/10 [==============================] - 1s 40ms/step\n",
            "              precision    recall  f1-score   support\n",
            "\n",
            "           0       0.71      0.95      0.81       140\n",
            "           1       0.93      0.64      0.76       151\n",
            "\n",
            "    accuracy                           0.79       291\n",
            "   macro avg       0.82      0.80      0.79       291\n",
            "weighted avg       0.83      0.79      0.79       291\n",
            "\n"
          ]
        }
      ]
    },
    {
      "cell_type": "markdown",
      "source": [
        "**Confusion Matrix**"
      ],
      "metadata": {
        "id": "aIbSmwkXz6oB"
      }
    },
    {
      "cell_type": "code",
      "source": [
        "matrix = confusion_matrix(Y_test_pred, ypred)\n",
        "df_cm = pd.DataFrame(matrix, index=[0, 1], columns=[0, 1])\n",
        "figure = plt.figure(figsize=(5, 5))\n",
        "sns.heatmap(df_cm, annot=True, fmt='d')"
      ],
      "metadata": {
        "colab": {
          "base_uri": "https://localhost:8080/",
          "height": 337
        },
        "id": "Veo2-irwz-Th",
        "outputId": "fa33d7a8-d1d0-4618-877c-09da33c0811d"
      },
      "execution_count": 14,
      "outputs": [
        {
          "output_type": "execute_result",
          "data": {
            "text/plain": [
              "<Axes: >"
            ]
          },
          "metadata": {},
          "execution_count": 14
        },
        {
          "output_type": "display_data",
          "data": {
            "text/plain": [
              "<Figure size 360x360 with 2 Axes>"
            ],
            "image/png": "[encoded data removed]"
          },
          "metadata": {
            "needs_background": "light"
          }
        }
      ]
    },
    {
      "cell_type": "markdown",
      "source": [
        "**Saving the Model**"
      ],
      "metadata": {
        "id": "gGPubQVv0K_O"
      }
    },
    {
      "cell_type": "code",
      "source": [
        "model.save('Driver_Drowsiness_Detection_first_model.h5')"
      ],
      "metadata": {
        "id": "Pr71Rd1l6TvO"
      },
      "execution_count": 15,
      "outputs": []
    }
  ]
}